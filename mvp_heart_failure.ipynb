{
  "nbformat": 4,
  "nbformat_minor": 0,
  "metadata": {
    "colab": {
      "provenance": [],
      "include_colab_link": true
    },
    "kernelspec": {
      "name": "python3",
      "display_name": "Python 3"
    },
    "language_info": {
      "name": "python"
    }
  },
  "cells": [
    {
      "cell_type": "markdown",
      "metadata": {
        "id": "view-in-github",
        "colab_type": "text"
      },
      "source": [
        "<a href=\"https://colab.research.google.com/github/rcnweb/mvp_heart/blob/main/mvp_heart_failure.ipynb\" target=\"_parent\"><img src=\"https://colab.research.google.com/assets/colab-badge.svg\" alt=\"Open In Colab\"/></a>"
      ]
    },
    {
      "cell_type": "markdown",
      "source": [
        "# MVP - Predição de Doença Cardíaca\n",
        "**Disciplina:** Engenharia de Sistemas de Software Inteligentes  \n",
        "**Aluno:** Rodrigo Cunha Neto\n",
        "\n",
        "## Objetivo\n",
        "Este projeto busca treinar um modelo de machine learning capaz de prever se um paciente tem ou não doença cardíaca, utilizando dados clínicos. O processo inclui: leitura dos dados, pré-processamento, treinamento de modelos clássicos (KNN, Árvore de Decisão, Naive Bayes e SVM), validação, comparação de desempenho e exportação do melhor modelo.\n"
      ],
      "metadata": {
        "id": "1WuAn_4LMCqs"
      }
    },
    {
      "cell_type": "code",
      "source": [
        "# Importando as bibliotecas necessárias\n",
        "import pandas as pd\n",
        "import numpy as np\n",
        "import matplotlib.pyplot as plt\n",
        "import seaborn as sns\n",
        "\n",
        "from sklearn.model_selection import train_test_split, GridSearchCV\n",
        "from sklearn.pipeline import Pipeline\n",
        "from sklearn.preprocessing import StandardScaler\n",
        "from sklearn.compose import ColumnTransformer\n",
        "from sklearn.preprocessing import OneHotEncoder\n",
        "\n",
        "from sklearn.neighbors import KNeighborsClassifier\n",
        "from sklearn.tree import DecisionTreeClassifier\n",
        "from sklearn.naive_bayes import GaussianNB\n",
        "from sklearn.svm import SVC\n",
        "\n",
        "from sklearn.metrics import classification_report, confusion_matrix, accuracy_score, roc_auc_score\n",
        "import joblib\n"
      ],
      "metadata": {
        "id": "cds5S2wvMG6a"
      },
      "execution_count": 1,
      "outputs": []
    },
    {
      "cell_type": "code",
      "source": [
        "# Carregando o arquivo heart.csv\n",
        "import pandas as pd\n",
        "\n",
        "url = 'https://raw.githubusercontent.com/rcnweb/mvp_heart/refs/heads/main/dataset/heart.csv'\n",
        "df = pd.read_csv(url)"
      ],
      "metadata": {
        "id": "VWhYDgCfMKIl"
      },
      "execution_count": 3,
      "outputs": []
    },
    {
      "cell_type": "code",
      "source": [
        "# Verificando os dados\n",
        "df.info()"
      ],
      "metadata": {
        "colab": {
          "base_uri": "https://localhost:8080/"
        },
        "id": "lFq7UT6FMO_S",
        "outputId": "1a1cd842-e13f-4811-f107-533919fe2e3c"
      },
      "execution_count": 4,
      "outputs": [
        {
          "output_type": "stream",
          "name": "stdout",
          "text": [
            "<class 'pandas.core.frame.DataFrame'>\n",
            "RangeIndex: 918 entries, 0 to 917\n",
            "Data columns (total 12 columns):\n",
            " #   Column          Non-Null Count  Dtype  \n",
            "---  ------          --------------  -----  \n",
            " 0   Age             918 non-null    int64  \n",
            " 1   Sex             918 non-null    object \n",
            " 2   ChestPainType   918 non-null    object \n",
            " 3   RestingBP       918 non-null    int64  \n",
            " 4   Cholesterol     918 non-null    int64  \n",
            " 5   FastingBS       918 non-null    int64  \n",
            " 6   RestingECG      918 non-null    object \n",
            " 7   MaxHR           918 non-null    int64  \n",
            " 8   ExerciseAngina  918 non-null    object \n",
            " 9   Oldpeak         918 non-null    float64\n",
            " 10  ST_Slope        918 non-null    object \n",
            " 11  HeartDisease    918 non-null    int64  \n",
            "dtypes: float64(1), int64(6), object(5)\n",
            "memory usage: 86.2+ KB\n"
          ]
        }
      ]
    },
    {
      "cell_type": "code",
      "source": [
        "# Checando os valores únicos de cada coluna categórica\n",
        "categorical_columns = ['Sex', 'ChestPainType', 'RestingECG', 'ExerciseAngina', 'ST_Slope']\n",
        "for col in categorical_columns:\n",
        "    print(f'{col}: {df[col].unique()}')"
      ],
      "metadata": {
        "colab": {
          "base_uri": "https://localhost:8080/"
        },
        "id": "aBlHntZkOMX9",
        "outputId": "4a2f6942-1725-4942-c99e-b1114f2c53d9"
      },
      "execution_count": 5,
      "outputs": [
        {
          "output_type": "stream",
          "name": "stdout",
          "text": [
            "Sex: ['M' 'F']\n",
            "ChestPainType: ['ATA' 'NAP' 'ASY' 'TA']\n",
            "RestingECG: ['Normal' 'ST' 'LVH']\n",
            "ExerciseAngina: ['N' 'Y']\n",
            "ST_Slope: ['Up' 'Flat' 'Down']\n"
          ]
        }
      ]
    },
    {
      "cell_type": "code",
      "source": [
        "# Separando as colunas de entrada (X) e o alvo (y)\n",
        "X = df.drop('HeartDisease', axis=1)\n",
        "y = df['HeartDisease']"
      ],
      "metadata": {
        "id": "Goc1vED9OOwY"
      },
      "execution_count": 6,
      "outputs": []
    },
    {
      "cell_type": "code",
      "source": [
        "# Definindo quais colunas são numéricas e quais são categóricas\n",
        "numeric_features = ['Age', 'RestingBP', 'Cholesterol', 'MaxHR', 'Oldpeak']\n",
        "categorical_features = ['Sex', 'ChestPainType', 'FastingBS', 'RestingECG', 'ExerciseAngina', 'ST_Slope']\n"
      ],
      "metadata": {
        "id": "eQbf-i6ROXY-"
      },
      "execution_count": 7,
      "outputs": []
    },
    {
      "cell_type": "code",
      "source": [
        "# Criando o pré-processador\n",
        "\n",
        "from sklearn.preprocessing import OneHotEncoder, StandardScaler\n",
        "from sklearn.compose import ColumnTransformer\n",
        "\n",
        "# Pré-processador que normaliza os números e codifica as categorias\n",
        "preprocessor = ColumnTransformer(\n",
        "    transformers=[\n",
        "        ('num', StandardScaler(), numeric_features),\n",
        "        ('cat', OneHotEncoder(), categorical_features)\n",
        "    ])\n"
      ],
      "metadata": {
        "id": "5yZ-u0rnOZC1"
      },
      "execution_count": 8,
      "outputs": []
    },
    {
      "cell_type": "code",
      "source": [
        "# Dividindo os dados entre treino e teste\n",
        "\n",
        "from sklearn.model_selection import train_test_split\n",
        "\n",
        "# Separando 80% para treino e 20% para teste\n",
        "X_train, X_test, y_train, y_test = train_test_split(\n",
        "    X, y, test_size=0.2, random_state=42, stratify=y)\n"
      ],
      "metadata": {
        "id": "O6tVPx2ZOa5S"
      },
      "execution_count": 9,
      "outputs": []
    },
    {
      "cell_type": "code",
      "source": [
        "from sklearn.pipeline import Pipeline\n",
        "from sklearn.neighbors import KNeighborsClassifier\n",
        "from sklearn.metrics import accuracy_score, classification_report\n",
        "\n",
        "# Pipeline KNN\n",
        "pipeline_knn = Pipeline([\n",
        "    ('preprocess', preprocessor),\n",
        "    ('classifier', KNeighborsClassifier())\n",
        "])\n",
        "\n",
        "pipeline_knn.fit(X_train, y_train)\n",
        "\n",
        "y_pred_knn = pipeline_knn.predict(X_test)\n",
        "print(\"KNN\")\n",
        "print(classification_report(y_test, y_pred_knn))\n"
      ],
      "metadata": {
        "colab": {
          "base_uri": "https://localhost:8080/"
        },
        "id": "md3MfD0AOdhQ",
        "outputId": "9d734b15-db66-40ed-92f6-b039b71bd6ac"
      },
      "execution_count": 10,
      "outputs": [
        {
          "output_type": "stream",
          "name": "stdout",
          "text": [
            "KNN\n",
            "              precision    recall  f1-score   support\n",
            "\n",
            "           0       0.88      0.89      0.88        82\n",
            "           1       0.91      0.90      0.91       102\n",
            "\n",
            "    accuracy                           0.90       184\n",
            "   macro avg       0.90      0.90      0.90       184\n",
            "weighted avg       0.90      0.90      0.90       184\n",
            "\n"
          ]
        }
      ]
    },
    {
      "cell_type": "code",
      "source": [
        "from sklearn.tree import DecisionTreeClassifier\n",
        "\n",
        "# Pipeline Árvore de Classificação\n",
        "pipeline_tree = Pipeline([\n",
        "    ('preprocess', preprocessor),\n",
        "    ('classifier', DecisionTreeClassifier(random_state=42))\n",
        "])\n",
        "\n",
        "pipeline_tree.fit(X_train, y_train)\n",
        "\n",
        "y_pred_tree = pipeline_tree.predict(X_test)\n",
        "print(\"Árvore de Classificação\")\n",
        "print(classification_report(y_test, y_pred_tree))\n"
      ],
      "metadata": {
        "colab": {
          "base_uri": "https://localhost:8080/"
        },
        "id": "9Xb6CKhaOl74",
        "outputId": "bee486ed-a363-49ab-f084-5b614459ae56"
      },
      "execution_count": 11,
      "outputs": [
        {
          "output_type": "stream",
          "name": "stdout",
          "text": [
            "Árvore de Classificação\n",
            "              precision    recall  f1-score   support\n",
            "\n",
            "           0       0.78      0.76      0.77        82\n",
            "           1       0.81      0.82      0.82       102\n",
            "\n",
            "    accuracy                           0.79       184\n",
            "   macro avg       0.79      0.79      0.79       184\n",
            "weighted avg       0.79      0.79      0.79       184\n",
            "\n"
          ]
        }
      ]
    },
    {
      "cell_type": "code",
      "source": [
        "from sklearn.naive_bayes import GaussianNB\n",
        "\n",
        "# Pipeline Naive Bayes\n",
        "\n",
        "# Para usar o GaussianNB precisamos que os dados já estejam numéricos. Portanto teremos que transformar manualmente.\n",
        "X_train_transformed = preprocessor.fit_transform(X_train)\n",
        "X_test_transformed = preprocessor.transform(X_test)\n",
        "\n",
        "nb = GaussianNB()\n",
        "nb.fit(X_train_transformed, y_train)\n",
        "y_pred_nb = nb.predict(X_test_transformed)\n",
        "\n",
        "print(\"Naive Bayes\")\n",
        "print(classification_report(y_test, y_pred_nb))\n"
      ],
      "metadata": {
        "colab": {
          "base_uri": "https://localhost:8080/"
        },
        "id": "EQkix5BBOoyg",
        "outputId": "6849b141-ca38-48b2-a003-8bc738307c96"
      },
      "execution_count": 12,
      "outputs": [
        {
          "output_type": "stream",
          "name": "stdout",
          "text": [
            "Naive Bayes\n",
            "              precision    recall  f1-score   support\n",
            "\n",
            "           0       0.88      0.84      0.86        82\n",
            "           1       0.88      0.91      0.89       102\n",
            "\n",
            "    accuracy                           0.88       184\n",
            "   macro avg       0.88      0.88      0.88       184\n",
            "weighted avg       0.88      0.88      0.88       184\n",
            "\n"
          ]
        }
      ]
    },
    {
      "cell_type": "code",
      "source": [
        "from sklearn.svm import SVC\n",
        "\n",
        "# Pipeline SVM\n",
        "pipeline_svm = Pipeline([\n",
        "    ('preprocess', preprocessor),\n",
        "    ('classifier', SVC(kernel='rbf', probability=True))\n",
        "])\n",
        "\n",
        "pipeline_svm.fit(X_train, y_train)\n",
        "\n",
        "y_pred_svm = pipeline_svm.predict(X_test)\n",
        "print(\"SVM\")\n",
        "print(classification_report(y_test, y_pred_svm))\n"
      ],
      "metadata": {
        "colab": {
          "base_uri": "https://localhost:8080/"
        },
        "id": "maUtzpu9OqYM",
        "outputId": "91ecc0be-383f-4619-a52f-5dcf47749c06"
      },
      "execution_count": 13,
      "outputs": [
        {
          "output_type": "stream",
          "name": "stdout",
          "text": [
            "SVM\n",
            "              precision    recall  f1-score   support\n",
            "\n",
            "           0       0.92      0.85      0.89        82\n",
            "           1       0.89      0.94      0.91       102\n",
            "\n",
            "    accuracy                           0.90       184\n",
            "   macro avg       0.90      0.90      0.90       184\n",
            "weighted avg       0.90      0.90      0.90       184\n",
            "\n"
          ]
        }
      ]
    },
    {
      "cell_type": "code",
      "source": [
        "# O modelo com maior assertividade foi o SVM, então iremos salvar o modelo como .pkl\n",
        "import joblib\n",
        "\n",
        "joblib.dump(pipeline_svm, 'modelo_svm_heart.pkl')\n",
        "print(\"Modelo exportado com sucesso!\")"
      ],
      "metadata": {
        "colab": {
          "base_uri": "https://localhost:8080/"
        },
        "id": "DJWfaImKOr6P",
        "outputId": "2b3cdf3b-d9c9-4851-cb30-186d4333dcdc"
      },
      "execution_count": 14,
      "outputs": [
        {
          "output_type": "stream",
          "name": "stdout",
          "text": [
            "Modelo exportado com sucesso!\n"
          ]
        }
      ]
    },
    {
      "cell_type": "markdown",
      "source": [
        "Neste trabalho, construímos um pipeline completo de predição de doenças cardíacas a partir de dados clínicos. O processo envolveu desde a leitura e análise dos dados, passando por um pré-processamento cuidadoso com normalização de variáveis numéricas e codificação de variáveis categóricas, até a construção e avaliação de diferentes algoritmos de machine learning.\n",
        "\n",
        "Os modelos testados foram: K-Nearest Neighbors (KNN), Árvore de Decisão, Naive Bayes e Support Vector Machine (SVM). Dentre eles, o modelo SVM apresentou o melhor desempenho, com uma acurácia de aproximadamente 90%, além de valores equilibrados de precisão e recall para ambas as classes (com ou sem doença). Isso demonstra que o modelo conseguiu aprender padrões relevantes e realizar uma boa generalização mesmo com um conjunto de dados moderado.\n",
        "\n",
        "Como etapa final, o modelo SVM foi salvo no formato .pkl, permitindo sua reutilização em aplicações futuras, como uma interface web de predição em tempo real.\n",
        "\n",
        "O principal aprendizado deste projeto foi entender na prática como os dados clínicos podem ser transformados em insights valiosos através da inteligência artificial. Além disso, reforçamos a importância do pré-processamento, da escolha adequada dos algoritmos e da análise cuidadosa dos resultados para garantir um modelo confiável."
      ],
      "metadata": {
        "id": "1qSY6CYqnHpO"
      }
    }
  ]
}